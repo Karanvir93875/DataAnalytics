{
 "cells": [
  {
   "cell_type": "markdown",
   "metadata": {},
   "source": [
    "# Polynomial Regression"
   ]
  },
  {
   "cell_type": "code",
   "execution_count": 1,
   "metadata": {},
   "outputs": [],
   "source": [
    "import pandas as pd\n",
    "import numpy as np\n",
    "import seaborn as sns\n",
    "import matplotlib.pyplot as plt\n",
    "import random"
   ]
  },
  {
   "cell_type": "code",
   "execution_count": 2,
   "metadata": {},
   "outputs": [],
   "source": [
    "m = 100\n",
    "X = 6 * np.random.rand(m, 1) - 3\n",
    "y = 0.5 * X**2 + X + 2 + np.random.randn(m, 1)"
   ]
  },
  {
   "cell_type": "code",
   "execution_count": 3,
   "metadata": {},
   "outputs": [
    {
     "data": {
      "text/plain": [
       "(array([15.,  7.,  9., 15.,  6.,  9., 10., 15.,  5.,  9.]),\n",
       " array([0.01321953, 0.11179989, 0.21038024, 0.30896059, 0.40754094,\n",
       "        0.50612129, 0.60470164, 0.70328199, 0.80186234, 0.9004427 ,\n",
       "        0.99902305]),\n",
       " <a list of 10 Patch objects>)"
      ]
     },
     "execution_count": 3,
     "metadata": {},
     "output_type": "execute_result"
    },
    {
     "data": {
      "image/png": "[encoded data removed]",
      "text/plain": [
       "<Figure size 432x288 with 1 Axes>"
      ]
     },
     "metadata": {
      "needs_background": "light"
     },
     "output_type": "display_data"
    }
   ],
   "source": [
    "plt.hist(np.random.rand(m, 1))"
   ]
  },
  {
   "cell_type": "code",
   "execution_count": 4,
   "metadata": {},
   "outputs": [
    {
     "data": {
      "text/plain": [
       "<matplotlib.axes._subplots.AxesSubplot at 0x268fc05a4c8>"
      ]
     },
     "execution_count": 4,
     "metadata": {},
     "output_type": "execute_result"
    },
    {
     "data": {
      "image/png": "[encoded data removed]",
      "text/plain": [
       "<Figure size 432x288 with 1 Axes>"
      ]
     },
     "metadata": {
      "needs_background": "light"
     },
     "output_type": "display_data"
    }
   ],
   "source": [
    "df = pd.DataFrame({'X': list(X), 'y': list(y)})\n",
    "sns.scatterplot(x='X', y='y', data=df)"
   ]
  },
  {
   "cell_type": "code",
   "execution_count": 5,
   "metadata": {},
   "outputs": [],
   "source": [
    "from sklearn.linear_model import LinearRegression\n",
    "from sklearn.model_selection import train_test_split\n",
    "from sklearn import metrics"
   ]
  },
  {
   "cell_type": "code",
   "execution_count": 6,
   "metadata": {},
   "outputs": [
    {
     "name": "stdout",
     "output_type": "stream",
     "text": [
      "[3.31579874]\n",
      "[[1.21910462]]\n"
     ]
    }
   ],
   "source": [
    "lin_model = LinearRegression()\n",
    "lin_model.fit(X, y)\n",
    "y_lin_pred = lin_model.predict(X)\n",
    "df['y_lin_pred'] = y_lin_pred\n",
    "print(lin_model.intercept_)\n",
    "print(lin_model.coef_)"
   ]
  },
  {
   "cell_type": "code",
   "execution_count": 7,
   "metadata": {},
   "outputs": [
    {
     "data": {
      "text/plain": [
       "<matplotlib.axes._subplots.AxesSubplot at 0x268fd470748>"
      ]
     },
     "execution_count": 7,
     "metadata": {},
     "output_type": "execute_result"
    },
    {
     "data": {
      "image/png": "[encoded data removed]",
      "text/plain": [
       "<Figure size 432x288 with 1 Axes>"
      ]
     },
     "metadata": {
      "needs_background": "light"
     },
     "output_type": "display_data"
    }
   ],
   "source": [
    "sns.scatterplot(x='X', y='y', data=df)\n",
    "sns.scatterplot(x='X', y=df['y_lin_pred'], data=df)"
   ]
  },
  {
   "cell_type": "markdown",
   "metadata": {},
   "source": [
    "## Clearly a straight line will never fit the graph properly"
   ]
  },
  {
   "cell_type": "code",
   "execution_count": 8,
   "metadata": {},
   "outputs": [],
   "source": [
    "from sklearn.preprocessing import PolynomialFeatures"
   ]
  },
  {
   "cell_type": "code",
   "execution_count": 9,
   "metadata": {},
   "outputs": [],
   "source": [
    "poly_features = PolynomialFeatures(degree=2, include_bias=False)"
   ]
  },
  {
   "cell_type": "code",
   "execution_count": 10,
   "metadata": {},
   "outputs": [
    {
     "data": {
      "text/plain": [
       "PolynomialFeatures(degree=2, include_bias=False, interaction_only=False,\n",
       "                   order='C')"
      ]
     },
     "execution_count": 10,
     "metadata": {},
     "output_type": "execute_result"
    }
   ],
   "source": [
    "poly_features"
   ]
  },
  {
   "cell_type": "code",
   "execution_count": 11,
   "metadata": {},
   "outputs": [
    {
     "data": {
      "text/plain": [
       "array([2.70229861])"
      ]
     },
     "execution_count": 11,
     "metadata": {},
     "output_type": "execute_result"
    }
   ],
   "source": [
    "X_poly = poly_features.fit_transform(X)\n",
    "X[0]"
   ]
  },
  {
   "cell_type": "code",
   "execution_count": 35,
   "metadata": {},
   "outputs": [
    {
     "data": {
      "text/plain": [
       "array([1.25017483, 1.56293711])"
      ]
     },
     "execution_count": 35,
     "metadata": {},
     "output_type": "execute_result"
    }
   ],
   "source": [
    "X_poly[0]"
   ]
  },
  {
   "cell_type": "code",
   "execution_count": 36,
   "metadata": {},
   "outputs": [
    {
     "data": {
      "text/plain": [
       "1.5629371055655288"
      ]
     },
     "execution_count": 36,
     "metadata": {},
     "output_type": "execute_result"
    }
   ],
   "source": [
    "1.25017483 * 1.25017483"
   ]
  },
  {
   "cell_type": "code",
   "execution_count": 37,
   "metadata": {},
   "outputs": [],
   "source": [
    "# X_poly now contains X as well as X^2"
   ]
  },
  {
   "cell_type": "code",
   "execution_count": 14,
   "metadata": {},
   "outputs": [
    {
     "name": "stdout",
     "output_type": "stream",
     "text": [
      "[1.84418809]\n",
      "[[1.04352317 0.48515089]]\n"
     ]
    }
   ],
   "source": [
    "from sklearn.linear_model import LinearRegression\n",
    "from sklearn.model_selection import train_test_split\n",
    "from sklearn import metrics\n",
    "\n",
    "model = LinearRegression()\n",
    "model.fit(X_poly, y)\n",
    "print(model.intercept_)\n",
    "print(model.coef_)"
   ]
  },
  {
   "cell_type": "markdown",
   "metadata": {},
   "source": [
    "# That is we predict  y = 0.485 * X^2 + 1.043 * X + 1.84"
   ]
  },
  {
   "cell_type": "markdown",
   "metadata": {},
   "source": [
    "# while the actual is y = 0.5 * X^2 + 1.0 * X + 2.0 + Gaussian noise"
   ]
  },
  {
   "cell_type": "code",
   "execution_count": 16,
   "metadata": {},
   "outputs": [
    {
     "data": {
      "text/html": [
       "<div>\n",
       "<style scoped>\n",
       "    .dataframe tbody tr th:only-of-type {\n",
       "        vertical-align: middle;\n",
       "    }\n",
       "\n",
       "    .dataframe tbody tr th {\n",
       "        vertical-align: top;\n",
       "    }\n",
       "\n",
       "    .dataframe thead th {\n",
       "        text-align: right;\n",
       "    }\n",
       "</style>\n",
       "<table border=\"1\" class=\"dataframe\">\n",
       "  <thead>\n",
       "    <tr style=\"text-align: right;\">\n",
       "      <th></th>\n",
       "      <th>X</th>\n",
       "      <th>y</th>\n",
       "      <th>y_lin_pred</th>\n",
       "      <th>y_pred</th>\n",
       "    </tr>\n",
       "  </thead>\n",
       "  <tbody>\n",
       "    <tr>\n",
       "      <td>0</td>\n",
       "      <td>[2.7022986061593635]</td>\n",
       "      <td>[7.854306762460375]</td>\n",
       "      <td>6.610183</td>\n",
       "      <td>8.206874</td>\n",
       "    </tr>\n",
       "    <tr>\n",
       "      <td>1</td>\n",
       "      <td>[0.22720229606168285]</td>\n",
       "      <td>[1.072294069501757]</td>\n",
       "      <td>3.592782</td>\n",
       "      <td>2.106323</td>\n",
       "    </tr>\n",
       "    <tr>\n",
       "      <td>2</td>\n",
       "      <td>[0.12092711952081281]</td>\n",
       "      <td>[1.0759154922029524]</td>\n",
       "      <td>3.463222</td>\n",
       "      <td>1.977473</td>\n",
       "    </tr>\n",
       "    <tr>\n",
       "      <td>3</td>\n",
       "      <td>[-0.062008143438406105]</td>\n",
       "      <td>[3.701046265197275]</td>\n",
       "      <td>3.240204</td>\n",
       "      <td>1.781347</td>\n",
       "    </tr>\n",
       "    <tr>\n",
       "      <td>4</td>\n",
       "      <td>[-1.9293015152531936]</td>\n",
       "      <td>[1.4127797331975807]</td>\n",
       "      <td>0.963778</td>\n",
       "      <td>1.636748</td>\n",
       "    </tr>\n",
       "  </tbody>\n",
       "</table>\n",
       "</div>"
      ],
      "text/plain": [
       "                         X                     y  y_lin_pred    y_pred\n",
       "0     [2.7022986061593635]   [7.854306762460375]    6.610183  8.206874\n",
       "1    [0.22720229606168285]   [1.072294069501757]    3.592782  2.106323\n",
       "2    [0.12092711952081281]  [1.0759154922029524]    3.463222  1.977473\n",
       "3  [-0.062008143438406105]   [3.701046265197275]    3.240204  1.781347\n",
       "4    [-1.9293015152531936]  [1.4127797331975807]    0.963778  1.636748"
      ]
     },
     "execution_count": 16,
     "metadata": {},
     "output_type": "execute_result"
    }
   ],
   "source": [
    "y_pred = model.predict(X_poly)\n",
    "df['y_pred'] = y_pred\n",
    "df.head()"
   ]
  },
  {
   "cell_type": "code",
   "execution_count": 17,
   "metadata": {},
   "outputs": [
    {
     "data": {
      "text/plain": [
       "<matplotlib.axes._subplots.AxesSubplot at 0x268fdb1e208>"
      ]
     },
     "execution_count": 17,
     "metadata": {},
     "output_type": "execute_result"
    },
    {
     "data": {
      "image/png": "[encoded data removed]",
      "text/plain": [
       "<Figure size 432x288 with 1 Axes>"
      ]
     },
     "metadata": {
      "needs_background": "light"
     },
     "output_type": "display_data"
    }
   ],
   "source": [
    "sns.scatterplot(x='X', y=df['y_pred'], data=df, color='red')\n",
    "sns.scatterplot(x='X', y='y', data=df, color='blue')"
   ]
  },
  {
   "cell_type": "markdown",
   "metadata": {},
   "source": [
    "## You can fit a higher degree polynomial"
   ]
  },
  {
   "cell_type": "code",
   "execution_count": 18,
   "metadata": {},
   "outputs": [],
   "source": [
    "poly20 = PolynomialFeatures(degree=20, include_bias=True)\n",
    "X_poly20 = poly20.fit_transform(X)\n",
    "model20 = LinearRegression()\n",
    "model20.fit(X_poly20, y)\n",
    "y_pred20 = model20.predict(X_poly20)\n"
   ]
  },
  {
   "cell_type": "code",
   "execution_count": 19,
   "metadata": {},
   "outputs": [
    {
     "data": {
      "text/html": [
       "<div>\n",
       "<style scoped>\n",
       "    .dataframe tbody tr th:only-of-type {\n",
       "        vertical-align: middle;\n",
       "    }\n",
       "\n",
       "    .dataframe tbody tr th {\n",
       "        vertical-align: top;\n",
       "    }\n",
       "\n",
       "    .dataframe thead th {\n",
       "        text-align: right;\n",
       "    }\n",
       "</style>\n",
       "<table border=\"1\" class=\"dataframe\">\n",
       "  <thead>\n",
       "    <tr style=\"text-align: right;\">\n",
       "      <th></th>\n",
       "      <th>X</th>\n",
       "      <th>y</th>\n",
       "      <th>y_lin_pred</th>\n",
       "      <th>y_pred</th>\n",
       "      <th>y_pred20</th>\n",
       "    </tr>\n",
       "  </thead>\n",
       "  <tbody>\n",
       "    <tr>\n",
       "      <td>0</td>\n",
       "      <td>[2.7022986061593635]</td>\n",
       "      <td>[7.854306762460375]</td>\n",
       "      <td>6.610183</td>\n",
       "      <td>8.206874</td>\n",
       "      <td>7.780275</td>\n",
       "    </tr>\n",
       "    <tr>\n",
       "      <td>1</td>\n",
       "      <td>[0.22720229606168285]</td>\n",
       "      <td>[1.072294069501757]</td>\n",
       "      <td>3.592782</td>\n",
       "      <td>2.106323</td>\n",
       "      <td>1.930676</td>\n",
       "    </tr>\n",
       "    <tr>\n",
       "      <td>2</td>\n",
       "      <td>[0.12092711952081281]</td>\n",
       "      <td>[1.0759154922029524]</td>\n",
       "      <td>3.463222</td>\n",
       "      <td>1.977473</td>\n",
       "      <td>1.882599</td>\n",
       "    </tr>\n",
       "    <tr>\n",
       "      <td>3</td>\n",
       "      <td>[-0.062008143438406105]</td>\n",
       "      <td>[3.701046265197275]</td>\n",
       "      <td>3.240204</td>\n",
       "      <td>1.781347</td>\n",
       "      <td>2.022381</td>\n",
       "    </tr>\n",
       "    <tr>\n",
       "      <td>4</td>\n",
       "      <td>[-1.9293015152531936]</td>\n",
       "      <td>[1.4127797331975807]</td>\n",
       "      <td>0.963778</td>\n",
       "      <td>1.636748</td>\n",
       "      <td>1.794865</td>\n",
       "    </tr>\n",
       "  </tbody>\n",
       "</table>\n",
       "</div>"
      ],
      "text/plain": [
       "                         X                     y  y_lin_pred    y_pred  \\\n",
       "0     [2.7022986061593635]   [7.854306762460375]    6.610183  8.206874   \n",
       "1    [0.22720229606168285]   [1.072294069501757]    3.592782  2.106323   \n",
       "2    [0.12092711952081281]  [1.0759154922029524]    3.463222  1.977473   \n",
       "3  [-0.062008143438406105]   [3.701046265197275]    3.240204  1.781347   \n",
       "4    [-1.9293015152531936]  [1.4127797331975807]    0.963778  1.636748   \n",
       "\n",
       "   y_pred20  \n",
       "0  7.780275  \n",
       "1  1.930676  \n",
       "2  1.882599  \n",
       "3  2.022381  \n",
       "4  1.794865  "
      ]
     },
     "execution_count": 19,
     "metadata": {},
     "output_type": "execute_result"
    }
   ],
   "source": [
    "df['y_pred20'] = y_pred20\n",
    "df.head()"
   ]
  },
  {
   "cell_type": "code",
   "execution_count": 20,
   "metadata": {},
   "outputs": [
    {
     "name": "stdout",
     "output_type": "stream",
     "text": [
      "Root Mean Squared Error with 1-degree polynomial: 1.5849303095072518\n",
      "Root Mean Squared Error with 2-degree polynomial: 0.8888178025098263\n",
      "Root Mean Squared Error with 20-degree polynomial  0.7908164434711348\n"
     ]
    }
   ],
   "source": [
    "print('Root Mean Squared Error with 1-degree polynomial:', np.sqrt(metrics.mean_squared_error(y, y_lin_pred)))\n",
    "print('Root Mean Squared Error with 2-degree polynomial:', np.sqrt(metrics.mean_squared_error(y, y_pred)))\n",
    "print('Root Mean Squared Error with 20-degree polynomial ', np.sqrt(metrics.mean_squared_error(y, y_pred20)))"
   ]
  },
  {
   "cell_type": "code",
   "execution_count": 27,
   "metadata": {},
   "outputs": [
    {
     "data": {
      "text/plain": [
       "<matplotlib.axes._subplots.AxesSubplot at 0x268fde2f108>"
      ]
     },
     "execution_count": 27,
     "metadata": {},
     "output_type": "execute_result"
    },
    {
     "data": {
      "image/png": "[encoded data removed]",
      "text/plain": [
       "<Figure size 432x288 with 1 Axes>"
      ]
     },
     "metadata": {
      "needs_background": "light"
     },
     "output_type": "display_data"
    }
   ],
   "source": [
    "sns.scatterplot(x='X', y='y', data=df, color='gray')\n",
    "sns.scatterplot(x='X', y=df['y_lin_pred'], data=df, color='red')\n",
    "sns.scatterplot(x='X', y=df['y_pred'], data=df, color='blue')\n",
    "sns.scatterplot(x='X', y=df['y_pred20'], data=df, color='green')"
   ]
  },
  {
   "cell_type": "markdown",
   "metadata": {},
   "source": [
    "## Green line has LOWEST root mean square ERROR than the Red Line"
   ]
  },
  {
   "cell_type": "markdown",
   "metadata": {},
   "source": [
    "## HOWEVER, Green line may be OVERFITTING while RED line UNDERFIT"
   ]
  },
  {
   "cell_type": "code",
   "execution_count": null,
   "metadata": {},
   "outputs": [],
   "source": []
  }
 ],
 "metadata": {
  "kernelspec": {
   "display_name": "Python 3",
   "language": "python",
   "name": "python3"
  },
  "language_info": {
   "codemirror_mode": {
    "name": "ipython",
    "version": 3
   },
   "file_extension": ".py",
   "mimetype": "text/x-python",
   "name": "python",
   "nbconvert_exporter": "python",
   "pygments_lexer": "ipython3",
   "version": "3.7.4"
  }
 },
 "nbformat": 4,
 "nbformat_minor": 2
}
